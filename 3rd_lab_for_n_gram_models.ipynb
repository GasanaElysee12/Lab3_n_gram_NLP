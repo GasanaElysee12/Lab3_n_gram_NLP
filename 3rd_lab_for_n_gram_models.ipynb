{
  "cells": [
    {
      "cell_type": "markdown",
      "metadata": {
        "id": "view-in-github",
        "colab_type": "text"
      },
      "source": [
        "<a href=\"https://colab.research.google.com/github/GasanaElysee12/Lab3_n_gram_NLP/blob/main/3rd_lab_for_n_gram_models.ipynb\" target=\"_parent\"><img src=\"https://colab.research.google.com/assets/colab-badge.svg\" alt=\"Open In Colab\"/></a>"
      ]
    },
    {
      "cell_type": "markdown",
      "metadata": {
        "id": "6GF_vz3ZGtLE"
      },
      "source": [
        "\n",
        "<h1 style=\"font-family:verdana;font-size:300%;text-align:center;background-color:#f2f2f2;color:#0d0d0d\">AMMI NLP - Review sessions</h1>\n",
        "\n",
        "<h1 style=\"font-family:verdana;font-size:180%;text-align:Center;color:#993333\"> Lab 3: n-gram models </h1>"
      ]
    },
    {
      "cell_type": "markdown",
      "metadata": {
        "id": "wWEdlLzPGtLH"
      },
      "source": [
        "**Big thanks to Amr Khalifa who improved this lab and made it to a Jupyter Notebook!**"
      ]
    },
    {
      "cell_type": "code",
      "execution_count": null,
      "metadata": {
        "id": "x3Db2ccXGtLH"
      },
      "outputs": [],
      "source": [
        ""
      ]
    },
    {
      "cell_type": "code",
      "execution_count": null,
      "metadata": {
        "id": "_6P5CcDpGtLI"
      },
      "outputs": [],
      "source": [
        "import io, sys, math, re\n",
        "from collections import defaultdict\n",
        "import numpy as np"
      ]
    },
    {
      "cell_type": "code",
      "execution_count": null,
      "metadata": {
        "id": "xnecxZWUGtLI"
      },
      "outputs": [],
      "source": [
        "# data_loader\n",
        "\n",
        "def load_data(filename):\n",
        "    '''\n",
        "    parameters:\n",
        "    filename (string): datafile\n",
        "    \n",
        "    Returns:\n",
        "    data (list of lists): each list is a sentence of the text \n",
        "    vocab (dictionary): {word: no of times it appears in the text}\n",
        "    '''\n",
        "    fin = io.open(filename, 'r', encoding='utf-8')\n",
        "    data = []\n",
        "    vocab = defaultdict(lambda:0)\n",
        "    for line in fin:\n",
        "        sentence = line.split()\n",
        "        data.append(sentence)\n",
        "        for word in sentence:\n",
        "            vocab[word] += 1\n",
        "    return data, vocab"
      ]
    },
    {
      "cell_type": "code",
      "execution_count": null,
      "metadata": {
        "id": "WqwJciZaGtLJ",
        "outputId": "0a900157-001a-4c48-f203-b3470cefff01"
      },
      "outputs": [
        {
          "name": "stdout",
          "output_type": "stream",
          "text": [
            "load training set..\n",
            "\n",
            "\n",
            "['<s>', 'my', 'fathers', \"don't\", 'speak', 'dutch.', '</s>']\n",
            "\n",
            "\n",
            "how : 107\n",
            "load validation set\n"
          ]
        }
      ],
      "source": [
        "\n",
        "print(\"load training set..\")\n",
        "print(\"\\n\")\n",
        "train_data, vocab = load_data(\"train1.txt\")\n",
        "print(train_data[0])\n",
        "print(\"\\n\")\n",
        "print(\"how :\",vocab['how'])\n",
        "print(\"load validation set\")\n",
        "valid_data, _ = load_data(\"valid1.txt\")\n"
      ]
    },
    {
      "cell_type": "code",
      "execution_count": null,
      "metadata": {
        "id": "R7xHgrgwGtLK"
      },
      "outputs": [],
      "source": [
        "def remove_rare_words(data, vocab, mincount = 1):\n",
        "    '''\n",
        "    Parameters:\n",
        "    data (list of lists): each list is a sentence of the text \n",
        "    vocab (dictionary): {word: no of times it appears in the text}\n",
        "    mincount(int): the minimum count \n",
        "    \n",
        "    Returns: \n",
        "    data_with_unk(list of lists): data after replacing rare words with <unk> token\n",
        "    '''\n",
        "    # replace words in data that are not in the vocab \n",
        "    # or have a count that is below mincount\n",
        "    data_with_unk = []\n",
        "\n",
        "    ## FILL CODE\n",
        "    #Here we need two for loops, one for accessing sentence in list of list and other one for word in sentence\n",
        "    for sentence in data:\n",
        "        # new sentence to store also replaced word by <unk>\n",
        "        update_sentence = []\n",
        "        for word in sentence:\n",
        "            #check whether the word is in the vocad keys and also the value count is high than mincount \n",
        "            if word in vocab and vocab[word]>mincount:\n",
        "                #once condition is true, store those words.\n",
        "                update_sentence.append(word)\n",
        "                # if word is there but less or equal min count replace by unk and store it also.\n",
        "            else:\n",
        "                update_sentence.append('<unk>')\n",
        "            #After that keep the sendtence in the collection of all sentences which is data_with_unk.\n",
        "        data_with_unk.append(update_sentence)\n",
        "        #output the collection of all sentences that have been updated.\n",
        "    return data_with_unk"
      ]
    },
    {
      "cell_type": "code",
      "execution_count": null,
      "metadata": {
        "id": "QBEGfBvmGtLL",
        "outputId": "a701b1d9-ff73-45b9-c5d5-62f64f3caa62"
      },
      "outputs": [
        {
          "name": "stdout",
          "output_type": "stream",
          "text": [
            "remove rare words\n",
            "['<s>', 'my', '<unk>', \"don't\", 'speak', '<unk>', '</s>']\n"
          ]
        }
      ],
      "source": [
        "print(\"remove rare words\")\n",
        "#Remove the word with number of count which is less than or equal to minicount which is one here in training\n",
        "#validation data.\n",
        "train_data = remove_rare_words(train_data, vocab, mincount = 1)\n",
        "valid_data = remove_rare_words(valid_data, vocab, mincount = 1)\n",
        "#  Check the first sentence in the train_data, here you might check anyone you want to make \n",
        "# sure that method is working\n",
        "print(train_data[0])"
      ]
    },
    {
      "cell_type": "code",
      "execution_count": null,
      "metadata": {
        "id": "DVlH1iiVGtLL"
      },
      "outputs": [],
      "source": [
        "# Build the model to produce the n_gram and probability\n",
        "def build_ngram(data, n):\n",
        "    '''\n",
        "    Parameters:\n",
        "    data (list of lists): each list is a sentence of the text \n",
        "    n (int): size of the n-gram\n",
        "    \n",
        "    Returns:\n",
        "    prob (dictionary of dictionary)\n",
        "    {\n",
        "        context: {word:probability of this word given context}\n",
        "    }\n",
        "    '''\n",
        "    #Set the number of word as zero.\n",
        "    words_amounts = 0\n",
        "    # Dictionary of dictionary to keep context which is n_gram and as key. Then inside next words to predict\n",
        "    #will be the also key of internal dictionary with values as their probabilities.\n",
        "    counts = defaultdict(lambda: defaultdict(lambda: 0.0))\n",
        "    #Access the sentence in the list of sentences.\n",
        "    for sentence in data:\n",
        "        #Make sentence as tuple since we need to keep ngram as key, in python, tuple can be a key. that is why.\n",
        "        sentence = tuple(sentence)\n",
        "\n",
        "        for i in range(len(sentence)):\n",
        "            #We need to calculate total number of words in a sentence.\n",
        "                words_amounts +=1\n",
        "                # we need to populate our words in dictionary as ngram\n",
        "                for length in range(n):\n",
        "                    #To know difference between a given word in sentence and taken on in ngram if we didn't take many\n",
        "                    #if is true process must stop, we to go in history based on number of grams (n)\n",
        "                    if i-length < 0:\n",
        "                        break\n",
        "                    #If condition above happen it will be ignored and go to the next word.\n",
        "                    #It will happen for N=0,N=1, and N=3 \n",
        "                    counts[sentence[i-length:i]][sentence[i]] +=1 \n",
        "                            \n",
        "        #Building of probability dictionary.\n",
        "    probability_dict  = defaultdict(lambda: defaultdict(lambda: 0.0))\n",
        "    # Build the probabilities from the counts\n",
        "    # Be careful with how you normalize!\n",
        "    \n",
        "    # context as n_gram, now we are going to build based on ngram as keyword in count dictionary\n",
        "    for context in counts.keys():\n",
        "    ## FILL CODE\n",
        "    \n",
        "    #Initialize the denominator of probability\n",
        "        probability_denominator =0\n",
        "        \n",
        "        #Now for the last word  to be predicted which is in ngram (context), here it is a value for of context.\n",
        "        for word in counts[context].keys():\n",
        "            # if it is available the number of count of this word will be increased to denominator\n",
        "            probability_denominator += counts[context][word]\n",
        "            # then for that word we are going to compute its probability based on its count together with context.\n",
        "        for word in counts[context].keys():\n",
        "            # counts[context][word]:is the total number of time word appeared together with ngram(context)\n",
        "            #divide it with probability denominator to get probability of being the next word given context.\n",
        "            #Then store that word as value of context(ngram) and its value be corresponding probability.\n",
        "            probability_dict[context][word] = counts[context][word]/probability_denominator \n",
        "      #return the dictionary which contain ngram, next words to be selected and correponding probabilities.\n",
        "    return probability_dict"
      ]
    },
    {
      "cell_type": "markdown",
      "metadata": {
        "id": "IVlSI0RAGtLM"
      },
      "source": [
        ""
      ]
    },
    {
      "cell_type": "code",
      "execution_count": null,
      "metadata": {
        "id": "lzqYyz87GtLM"
      },
      "outputs": [],
      "source": [
        "# RUN TO BUILD NGRAM MODEL\n",
        "\n",
        "#If the number of gram is 2, we can see the next word predicted and corresponding probability in \n",
        "n = 2\n",
        "print(\"build ngram model with n = \", n)\n",
        "model = build_ngram(train_data, n)"
      ]
    },
    {
      "cell_type": "code",
      "execution_count": null,
      "metadata": {
        "id": "32ZF_heSGtLN"
      },
      "outputs": [],
      "source": [
        "#Down you  can see\n",
        "list_=[]\n",
        "for key, value in model.items():\n",
        "    list_.append(list(value))\n",
        "    print(list_)"
      ]
    },
    {
      "cell_type": "markdown",
      "metadata": {
        "id": "gnkUp9pSGtLN"
      },
      "source": [
        "Here, implement a recursive function over shorter and shorter context to compute a \"stupid backoff model\". An interpolation model can also be implemented this way."
      ]
    },
    {
      "cell_type": "code",
      "execution_count": null,
      "metadata": {
        "id": "x3Ff0111GtLN"
      },
      "outputs": [],
      "source": [
        "def get_prob(model, context, w):\n",
        "    '''\n",
        "    Parameters: \n",
        "    model (dictionary of dictionary)\n",
        "    {\n",
        "        context: {word:probability of this word given context}\n",
        "    } \n",
        "    context (list of strings): a sentence\n",
        "    w(string): the word we need to find it's probability given the context\n",
        "    \n",
        "    Retunrs:\n",
        "    prob(float): probability of this word given the context \n",
        "    '''\n",
        "\n",
        "    # code a recursive function over \n",
        "    # smaller and smaller context\n",
        "    # to compute the backoff model\n",
        "    \n",
        "    ## FILL CODE\n",
        "\n",
        "    #check the whether the ngram(context) is in probability dictionary and the word to be predicted\n",
        "    \n",
        "    if context in model and word in model[context]:\n",
        "      #if the word is in the value of context return its probabilty\n",
        "        return model[context][word]\n",
        "        #once not available, create the new small ngram and check probability for that word\n",
        "    else:\n",
        "        return 0.4*get_prob(model, context[1:], word)\n",
        "\n",
        "    return 0.0\n"
      ]
    },
    {
      "cell_type": "code",
      "execution_count": null,
      "metadata": {
        "id": "fe9RO6iBGtLN"
      },
      "outputs": [],
      "source": [
        "def perplexity(model, data, n):\n",
        "    '''\n",
        "    Parameters: \n",
        "    model (dictionary of dictionary)\n",
        "    {\n",
        "        context: {word:probability of this word given context}\n",
        "    } \n",
        "    data (list of lists): each list is a sentence of the text\n",
        "    n(int): size of the n-gram\n",
        "    \n",
        "    Retunrs:\n",
        "    perp(float): the perplexity of the model \n",
        "    '''\n",
        "    ## FILL CODE\n",
        "    #initialize perplexity as 0.0 ans total length of sequence,T as 0.\n",
        "    perp, sequence_length = 0.0, 0\n",
        "    for sentence in data:\n",
        "      #make a sentence as tuple in order to create ngram as tuple\n",
        "        sentence = tuple(sentence)\n",
        "        for i in range(1, len(sentence)):\n",
        "          #number of context in past and current we take the one with minimum number\n",
        "            number_context = min(n-1, i)\n",
        "            #then formulate context\n",
        "            context = sentence[i-number_context:i]\n",
        "            #update the perplexity by computing log to minimize space and also we are multiplying small value\n",
        "            perp += -math.log(get_prob(model, context, sentence[i]))\n",
        "            # After we update the length of sequence\n",
        "            sequence_length += 1\n",
        "            #  Find the perplexity\n",
        "    perp = math.exp(perp/sequence_length)\n",
        "    return perp"
      ]
    },
    {
      "cell_type": "code",
      "execution_count": null,
      "metadata": {
        "id": "ipMjL0l-GtLN",
        "outputId": "5267318e-7537-4b6f-941e-38e7cb9db090"
      },
      "outputs": [
        {
          "name": "stdout",
          "output_type": "stream",
          "text": [
            "The perplexity is 1.0\n"
          ]
        }
      ],
      "source": [
        "# COMPUTE PERPLEXITY ON VALIDATION SET\n",
        "#Here we might set any value of n grams to see perplexity.\n",
        "\n",
        "print(\"The perplexity is\", perplexity(model, valid_data, n=n))"
      ]
    },
    {
      "cell_type": "code",
      "source": [
        "#Here we might set any value of n grams to see perplexity.\n",
        "# if n=3\n",
        "n=3\n",
        "print(\"The perplexity is\", perplexity(model, valid_data, n=n))"
      ],
      "metadata": {
        "id": "lEdp5qe8JwKm"
      },
      "execution_count": null,
      "outputs": []
    },
    {
      "cell_type": "code",
      "execution_count": null,
      "metadata": {
        "id": "o-TN754HGtLO"
      },
      "outputs": [],
      "source": [
        "def get_proba_distrib(model, context):\n",
        "    ## need to get the the words after the context and their probability of appearance\n",
        "    ## after this context \n",
        "    '''\n",
        "    Parameters: \n",
        "    model (dictionary of dictionary)\n",
        "    {\n",
        "        context: {word:probability of this word given context}\n",
        "    }\n",
        "    context (list of strings): the sentence we need to find the words after it and \n",
        "    thier probabilites\n",
        "    \n",
        "    Retunrs:\n",
        "    words_and_probs(dic): {word: probability of word given context}\n",
        "    \n",
        "    '''\n",
        "    # code a recursive function over context\n",
        "    # to find the longest available ngram\n",
        "    \n",
        "    ## FILL CODE\n",
        "    # Here if n gram is in the model, we ajre going to get n_gram(context)\n",
        "    if context in model:\n",
        "        return model[context]\n",
        "        #If is not there we create the new small n_gram context[1:] in order to generate its probability.\n",
        "    else:\n",
        "        return get_proba_distrib(model, context[1:])"
      ]
    },
    {
      "cell_type": "code",
      "execution_count": null,
      "metadata": {
        "id": "MNJcEdkbGtLO"
      },
      "outputs": [],
      "source": [
        "def generate(model):\n",
        "    '''\n",
        "    Parameters: \n",
        "    model (dictionary of dictionary)\n",
        "    {\n",
        "        context: {word:probability of this word given context}\n",
        "    }\n",
        "    \n",
        "    Retunrs:\n",
        "    sentence (list of strings): a sentence sampled according to the language model. \n",
        "    \n",
        "\n",
        "    '''\n",
        "    # generate a sentence. A sentence starts with a <s> and ends with a </s>\n",
        "    # Possiblly a use function is:\n",
        "    # np.random.choice(x, 1, p = y)\n",
        "\n",
        "    # where x is a list of things to sample from\n",
        "    # and y is a list of probability (of the same length as x)\n",
        "\n",
        "\n",
        "\n",
        "    #If sentence is [\"<s>\"]\n",
        "    sentence = [\"<s>\"]\n",
        "    #As we know that the end of the sentence is </s>, once the end of sentence is not </s> and we have small sentence of length<100.\n",
        "    while sentence[-1] != \"</s>\" and len(sentence)<100:\n",
        "        ## FILL CODE\n",
        "        # this tell us that we can create a ngram in that sentence and check the probability.\n",
        "        probability = get_proba_distrib(model, tuple(sentence))\n",
        "        #By using random.choice, it will give us key which is word and (1) means that we need one and get the corresponding probability.\n",
        "        word_and_probability= np.random.choice((list(probability.keys())), 1, p = list(probability.values()))\n",
        "        # keep word in sentence as it is at index 0.\n",
        "        sentence.append(word_and_probability[0])\n",
        "        # Then we check those predicted words\n",
        "    return sentence"
      ]
    },
    {
      "cell_type": "code",
      "execution_count": null,
      "metadata": {
        "id": "T7_GTqvDGtLO",
        "outputId": "7b4459d7-562f-41e3-a368-2bc9edaf1666"
      },
      "outputs": [
        {
          "name": "stdout",
          "output_type": "stream",
          "text": [
            "Generated sentence:  ['<s>', '<unk>', '<unk>', '<unk>', '<unk>', '<unk>', '<unk>', '<unk>', '<unk>', '<unk>', '<unk>', '<unk>', '<unk>', '<unk>', '<unk>', '<unk>', '<unk>', '<unk>', '<unk>', '<unk>', '<unk>', '<unk>', '<unk>', '<unk>', '<unk>', '<unk>', '<unk>', '<unk>', '<unk>', '<unk>', '<unk>', '<unk>', '<unk>', '<unk>', '<unk>', '<unk>', '<unk>', '<unk>', '<unk>', '<unk>', '<unk>', '<unk>', '<unk>', '<unk>', '<unk>', '<unk>', '<unk>', '<unk>', '<unk>', '<unk>', '<unk>', '<unk>', '<unk>', '<unk>', '<unk>', '<unk>', '<unk>', '<unk>', '<unk>', '<unk>', '<unk>', '<unk>', '<unk>', '<unk>', '<unk>', '<unk>', '<unk>', '<unk>', '<unk>', '<unk>', '<unk>', '<unk>', '<unk>', '<unk>', '<unk>', '<unk>', '<unk>', '<unk>', '<unk>', '<unk>', '<unk>', '<unk>', '<unk>', '<unk>', '<unk>', '<unk>', '<unk>', '<unk>', '<unk>', '<unk>', '<unk>', '<unk>', '<unk>', '<unk>', '<unk>', '<unk>', '<unk>', '<unk>', '<unk>', '<unk>']\n"
          ]
        }
      ],
      "source": [
        "# GENERATE A SENTENCE FROM THE MODEL\n",
        "\n",
        "# Now we can print the word generated to see what are them\n",
        "print(\"Generated sentence: \",generate(model))"
      ]
    },
    {
      "cell_type": "markdown",
      "metadata": {
        "id": "IItW1WXNGtLO"
      },
      "source": [
        "Once you are done implementing the model, evaluation and generation code, you can try changing the value of `n`, and play with a larger training set (`train2.txt` and `valid2.txt`). You can also try to implement an interpolation model."
      ]
    },
    {
      "cell_type": "markdown",
      "source": [
        "## Let work on the train2.txt and valid2.txt"
      ],
      "metadata": {
        "id": "k5Q1skCYOt4g"
      }
    },
    {
      "cell_type": "code",
      "source": [
        "print(\"load training set..\")\n",
        "print(\"\\n\")\n",
        "train_data, vocab = load_data(\"train2.txt\")\n",
        "print(train_data[0])\n",
        "print(\"\\n\")\n",
        "print(\"how :\",vocab['how'])\n",
        "print(\"load validation set\")\n",
        "valid_data, _ = load_data(\"valid2.txt\")"
      ],
      "metadata": {
        "id": "Dy92VZHiNBNG"
      },
      "execution_count": null,
      "outputs": []
    },
    {
      "cell_type": "markdown",
      "source": [
        "#Remove rare word by replacing with unknown."
      ],
      "metadata": {
        "id": "BCfhIRJaOz7O"
      }
    },
    {
      "cell_type": "code",
      "source": [
        "\n",
        "\n",
        "train_data = remove_rare_words(train_data, vocab, mincount = 1)\n",
        "valid_data = remove_rare_words(valid_data, vocab, mincount = 1)\n"
      ],
      "metadata": {
        "id": "Wuw4ILS3NTC8"
      },
      "execution_count": null,
      "outputs": []
    },
    {
      "cell_type": "markdown",
      "source": [
        "# Let generate the probability for the words in train2.txt and valid2.txt, for n=3"
      ],
      "metadata": {
        "id": "Xl5F2NyBO4Jq"
      }
    },
    {
      "cell_type": "code",
      "source": [
        "\n",
        "n = 3\n",
        "print(\"build ngram model with n = \", n)\n",
        "model = build_ngram(train_data, n)\n"
      ],
      "metadata": {
        "id": "rZWztMX3NhPs"
      },
      "execution_count": null,
      "outputs": []
    },
    {
      "cell_type": "markdown",
      "source": [
        "# Let generate the probability for the words in train2.txt and valid2.txt, for n=4"
      ],
      "metadata": {
        "id": "TrpeaPrvO70U"
      }
    },
    {
      "cell_type": "code",
      "source": [
        "\n",
        "n = 4\n",
        "print(\"build ngram model with n = \", n)\n",
        "model = build_ngram(train_data, n)"
      ],
      "metadata": {
        "id": "RQePfjQiNQ7f"
      },
      "execution_count": null,
      "outputs": []
    },
    {
      "cell_type": "markdown",
      "source": [
        "#Here we might set any value of n grams to see perplexity. Let's set n=2,"
      ],
      "metadata": {
        "id": "MaAxXn9kO-ox"
      }
    },
    {
      "cell_type": "code",
      "source": [
        "\n",
        "\n",
        "print(\"The perplexity is\", perplexity(model, valid_data, n=n))"
      ],
      "metadata": {
        "id": "Uqu-sLNbNQ31"
      },
      "execution_count": null,
      "outputs": []
    },
    {
      "cell_type": "markdown",
      "source": [
        "#Here we might set any value of n grams to see perplexity. Let's set n=3."
      ],
      "metadata": {
        "id": "ZTsQ-uobPClG"
      }
    },
    {
      "cell_type": "code",
      "source": [
        "\n",
        "n=3\n",
        "print(\"The perplexity is\", perplexity(model, valid_data, n=n))"
      ],
      "metadata": {
        "id": "STwJh7AJNQ0F"
      },
      "execution_count": null,
      "outputs": []
    },
    {
      "cell_type": "markdown",
      "source": [
        "# Now we can print the word generated to see what are them"
      ],
      "metadata": {
        "id": "njFslNoNPEip"
      }
    },
    {
      "cell_type": "code",
      "source": [
        "\n",
        "\n",
        "\n",
        "print(\"Generated sentence: \",generate(model))"
      ],
      "metadata": {
        "id": "0UGJ15CyNQv1"
      },
      "execution_count": null,
      "outputs": []
    },
    {
      "cell_type": "code",
      "source": [
        "def interpolation(data,n):\n",
        "\n",
        "  prob=0.0\n",
        "  for sentence in data:\n",
        "   dic=build_ngram(sentence, n)\n",
        "   lambda1=0.3,lambda2=0.5,lambda3=0.2\n",
        "   for context in dic.keys():\n",
        "    if len(context)==1 or len(context)==2:\n",
        "      for word in dic[context].values():\n",
        "        prob +=dic[context][word]+"
      ],
      "metadata": {
        "id": "x-M0cySHNQr_"
      },
      "execution_count": null,
      "outputs": []
    }
  ],
  "metadata": {
    "kernelspec": {
      "display_name": "Python 3",
      "language": "python",
      "name": "python3"
    },
    "language_info": {
      "codemirror_mode": {
        "name": "ipython",
        "version": 3
      },
      "file_extension": ".py",
      "mimetype": "text/x-python",
      "name": "python",
      "nbconvert_exporter": "python",
      "pygments_lexer": "ipython3",
      "version": "3.8.9"
    },
    "colab": {
      "name": "3rd_lab_for_n_gram_models.ipynb",
      "provenance": [],
      "collapsed_sections": [],
      "include_colab_link": true
    }
  },
  "nbformat": 4,
  "nbformat_minor": 0
}